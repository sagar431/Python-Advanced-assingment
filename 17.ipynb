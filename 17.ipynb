{
 "cells": [
  {
   "cell_type": "markdown",
   "id": "7aa70640",
   "metadata": {},
   "source": [
    "Q1. Explain the difference between greedy and non-greedy syntax with visual terms in as few words\n",
    "as possible. What is the bare minimum effort required to transform a greedy pattern into a non-greedy\n",
    "one? What characters or characters can you introduce or change?\n",
    "\n",
    "Q2. When exactly does greedy versus non-greedy make a difference?  What if you&#39;re looking for a\n",
    "non-greedy match but the only one available is greedy?\n",
    "\n",
    "Q3. In a simple match of a string, which looks only for one match and does not do any replacement, is\n",
    "the use of a nontagged group likely to make any practical difference?\n",
    "\n",
    "Q4. Describe a scenario in which using a nontagged category would have a significant impact on the\n",
    "program&#39;s outcomes.\n",
    "\n",
    "Q5. Unlike a normal regex pattern, a look-ahead condition does not consume the characters it\n",
    "examines. Describe a situation in which this could make a difference in the results of your\n",
    "programme.\n",
    "\n",
    "Q6. In standard expressions, what is the difference between positive look-ahead and negative look-\n",
    "ahead?\n",
    "\n",
    "Q7. What is the benefit of referring to groups by name rather than by number in a standard\n",
    "expression?\n",
    "\n",
    "Q8. Can you identify repeated items within a target string using named groups, as in &quot;The cow\n",
    "jumped over the moon&quot;?\n",
    "\n",
    "Q9. When parsing a string, what is at least one thing that the Scanner interface does for you that the\n",
    "re.findall feature does not?\n",
    "\n",
    "Q10. Does a scanner object have to be named scanner?"
   ]
  },
  {
   "cell_type": "markdown",
   "id": "50225562",
   "metadata": {},
   "source": [
    "# answer"
   ]
  },
  {
   "cell_type": "markdown",
   "id": "1786b70c",
   "metadata": {},
   "source": [
    "Q1. Greedy and non-greedy syntax are used in regular expressions to define the matching behavior of patterns. Greedy patterns match as much text as possible while still allowing the entire pattern to match, while non-greedy patterns match as little text as possible to allow the pattern to match. To transform a greedy pattern into a non-greedy one, you can introduce a question mark after the repetition operator. For example, changing the pattern `.*` to `.*?` makes it non-greedy. \n",
    "\n",
    "Q2. Greedy versus non-greedy makes a difference when you want to match only a specific portion of the text. If the only available match is greedy but you want a non-greedy match, you can modify the pattern to be non-greedy by introducing a question mark after the repetition operator.\n",
    "\n",
    "Q3. In a simple match of a string that looks for only one match and does not do any replacement, the use of a non-tagged group is not likely to make any practical difference.\n",
    "\n",
    "Q4. Using a non-tagged category could have a significant impact on the outcomes of a program when searching for specific patterns. For example, if you want to match all words that contain the letter \"a,\" you could use the category `[a-zA-Z]*a[a-zA-Z]*`. This would match any word that contains the letter \"a\" and any number of letters before and after it. However, this would also match any non-word text that contains the letter \"a.\" Using a non-tagged category like `\\ba[a-zA-Z]*\\b` would match only whole words that begin with the letter \"a.\"\n",
    "\n",
    "Q5. A look-ahead condition can make a difference when you want to match a pattern that is followed by specific text, but you don't want to include the text in the match. For example, if you want to match all occurrences of the word \"cat\" that are followed by the word \"dog,\" you could use the look-ahead pattern `cat(?=dog)`.\n",
    "\n",
    "Q6. Positive look-ahead and negative look-ahead are both types of look-ahead conditions used in regular expressions. Positive look-ahead is used to match a pattern only if it is followed by another specific pattern, while negative look-ahead is used to match a pattern only if it is not followed by another specific pattern. \n",
    "\n",
    "Q7. Referring to groups by name rather than by number in a standard expression can make the expression more readable and easier to maintain, especially when the expression contains multiple groups.\n",
    "\n",
    "Q8. Yes, you can identify repeated items within a target string using named groups by using the syntax `(?P<name>pattern)` to define a named group. For example, to match any repeated word in a string, you could use the pattern `(?P<word>\\b\\w+\\b)\\s+(?P=word)`.\n",
    "\n",
    "Q9. When parsing a string, the Scanner interface automatically skips over delimiters and returns the next token in the string. This is useful when you need to parse a string that contains multiple types of data, such as numbers, strings, and operators. The re.findall feature does not do this, and requires a separate step to split the string into tokens.\n",
    "\n",
    "Q10. No, a Scanner object does not have to be named \"scanner.\" It can be named anything that is a valid variable name in Python."
   ]
  },
  {
   "cell_type": "code",
   "execution_count": null,
   "id": "c33d08e1",
   "metadata": {},
   "outputs": [],
   "source": []
  }
 ],
 "metadata": {
  "kernelspec": {
   "display_name": "Python 3 (ipykernel)",
   "language": "python",
   "name": "python3"
  },
  "language_info": {
   "codemirror_mode": {
    "name": "ipython",
    "version": 3
   },
   "file_extension": ".py",
   "mimetype": "text/x-python",
   "name": "python",
   "nbconvert_exporter": "python",
   "pygments_lexer": "ipython3",
   "version": "3.9.12"
  }
 },
 "nbformat": 4,
 "nbformat_minor": 5
}
