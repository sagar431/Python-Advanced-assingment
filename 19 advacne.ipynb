{
 "cells": [
  {
   "cell_type": "markdown",
   "id": "ad9f97a9",
   "metadata": {},
   "source": [
    "Q1. Define the relationship between a class and its instances. Is it a one-to-one or a one-to-many\n",
    "partnership, for example?\n",
    "\n",
    "Q2. What kind of data is held only in an instance?\n",
    "\n",
    "Q3. What kind of knowledge is stored in a class?\n",
    "\n",
    "Q4. What exactly is a method, and how is it different from a regular function?\n",
    "\n",
    "Q5. Is inheritance supported in Python, and if so, what is the syntax?\n",
    "\n",
    "Q6. How much encapsulation (making instance or class variables private) does Python support?\n",
    "\n",
    "Q7. How do you distinguish between a class variable and an instance variable?\n",
    "\n",
    "Q8. When, if ever, can self be included in a class&#39;s method definitions?\n",
    "\n",
    "Q9. What is the difference between the _ _add_ _ and the _ _radd_ _ methods?\n",
    "\n",
    "Q10. When is it necessary to use a reflection method? When do you not need it, even though you\n",
    "support the operation in question?\n",
    "\n",
    "Q11. What is the _ _iadd_ _ method called?\n",
    "\n",
    "Q12. Is the _ _init_ _ method inherited by subclasses? What do you do if you need to customize its\n",
    "behavior within a subclass?"
   ]
  },
  {
   "cell_type": "markdown",
   "id": "eb260356",
   "metadata": {},
   "source": [
    "# Answer"
   ]
  },
  {
   "cell_type": "markdown",
   "id": "06ba539c",
   "metadata": {},
   "source": [
    "Q1. The relationship between a class and its instances is a one-to-many partnership, where a single class can have multiple instances (objects).\n",
    "\n",
    "Q2. Instance variables are held only in an instance. These variables are specific to the instance and their values can differ across different instances of the same class.\n",
    "\n",
    "Q3. A class holds knowledge about the behaviors and properties of its instances. This includes class variables and methods that define common properties and behaviors for all instances of the class.\n",
    "\n",
    "Q4. A method is a function that belongs to a class and operates on its instances. It is different from a regular function as it has an implicit first argument, self, which refers to the instance calling the method.\n",
    "\n",
    "Q5. Inheritance is supported in Python, and the syntax for defining a subclass is as follows:\n",
    "\n",
    "```\n",
    "class SubClassName(BaseClassName):\n",
    "    # attributes and methods\n",
    "```\n",
    "\n",
    "Q6. Python supports encapsulation to a certain extent by convention. By convention, instance variables that are meant to be private are prefixed with an underscore, which indicates to other programmers that they should not be accessed or modified directly.\n",
    "\n",
    "Q7. A class variable is shared among all instances of the class, while an instance variable is specific to the instance it belongs to.\n",
    "\n",
    "Q8. The self parameter should be included in a class's method definitions whenever the method operates on the instance's data or behavior. It is used to reference the instance that called the method and allows the method to access and modify the instance's attributes.\n",
    "\n",
    "Q9. The `__add__` method is called when the `+` operator is used with an instance of a class, while the `__radd__` method is called when the `+` operator is used with an instance of a different class on the right-hand side.\n",
    "\n",
    "Q10. A reflection method is necessary when you need to dynamically inspect or modify an object's attributes or behavior at runtime. You don't need to use reflection if you already know the attribute or method you want to access.\n",
    "\n",
    "Q11. The `__iadd__` method is called when the `+=` operator is used with an instance of a class.\n",
    "\n",
    "Q12. The `__init__` method is inherited by subclasses. To customize its behavior within a subclass, you can override the `__init__` method in the subclass and call the superclass's `__init__` method using `super().__init__()` to inherit its behavior."
   ]
  },
  {
   "cell_type": "code",
   "execution_count": null,
   "id": "a2477d86",
   "metadata": {},
   "outputs": [],
   "source": []
  }
 ],
 "metadata": {
  "kernelspec": {
   "display_name": "Python 3 (ipykernel)",
   "language": "python",
   "name": "python3"
  },
  "language_info": {
   "codemirror_mode": {
    "name": "ipython",
    "version": 3
   },
   "file_extension": ".py",
   "mimetype": "text/x-python",
   "name": "python",
   "nbconvert_exporter": "python",
   "pygments_lexer": "ipython3",
   "version": "3.9.12"
  }
 },
 "nbformat": 4,
 "nbformat_minor": 5
}
