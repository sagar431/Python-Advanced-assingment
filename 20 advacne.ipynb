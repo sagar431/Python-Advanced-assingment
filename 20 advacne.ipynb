{
 "cells": [
  {
   "cell_type": "markdown",
   "id": "b4df9103",
   "metadata": {},
   "source": [
    "1. Compare and contrast the float and Decimal classes&#39; benefits and drawbacks.\n",
    "\n",
    "2. Decimal(&#39;1.200&#39;) and Decimal(&#39;1.2&#39;) are two objects to consider. In what sense are these the same\n",
    "object? Are these just two ways of representing the exact same value, or do they correspond to\n",
    "different internal states?\n",
    "\n",
    "3. What happens if the equality of Decimal(&#39;1.200&#39;) and Decimal(&#39;1.2&#39;) is checked?\n",
    "\n",
    "4. Why is it preferable to start a Decimal object with a string rather than a floating-point value?\n",
    "\n",
    "5. In an arithmetic phrase, how simple is it to combine Decimal objects with integers?\n",
    "\n",
    "6. Can Decimal objects and floating-point values be combined easily?\n",
    "\n",
    "7. Using the Fraction class but not the Decimal class, give an example of a quantity that can be\n",
    "expressed with absolute precision.\n",
    "\n",
    "8. Describe a quantity that can be accurately expressed by the Decimal or Fraction classes but not by\n",
    "a floating-point value.\n",
    "\n",
    "Q9.Consider the following two fraction objects: Fraction(1, 2) and Fraction(1, 2). (5, 10). Is the internal\n",
    "state of these two objects the same? Why do you think that is?\n",
    "\n",
    "Q10. How do the Fraction class and the integer type (int) relate to each other? Containment or\n",
    "inheritance?"
   ]
  },
  {
   "cell_type": "markdown",
   "id": "4a31e84e",
   "metadata": {},
   "source": [
    "# answer"
   ]
  },
  {
   "cell_type": "markdown",
   "id": "75b63b55",
   "metadata": {},
   "source": [
    "1. The `float` class is a built-in data type in Python that represents real numbers as binary fractions, and it has a limited precision of 53 bits. The `Decimal` class, on the other hand, provides arbitrary-precision decimal arithmetic and is suitable for financial and monetary calculations where precision is crucial. The main benefit of the `Decimal` class is that it provides exact decimal representation without any rounding errors, whereas the `float` class may have rounding errors due to the finite precision. However, the `Decimal` class is slower and uses more memory compared to the `float` class.\n",
    "\n",
    "2. `Decimal('1.200')` and `Decimal('1.2')` are not the same object, but they represent the same value. They correspond to different internal states because the former has a trailing zero, which is preserved in the internal representation.\n",
    "\n",
    "3. The equality check of `Decimal('1.200') == Decimal('1.2')` will return False because the internal states of these two objects are different.\n",
    "\n",
    "4. It is preferable to start a `Decimal` object with a string rather than a floating-point value because the conversion from a floating-point value to a `Decimal` object can result in rounding errors and loss of precision.\n",
    "\n",
    "5. Decimal objects and integers can be combined easily in an arithmetic expression. The result will be a `Decimal` object.\n",
    "\n",
    "6. Decimal objects and floating-point values can be combined, but the result will be a `float` object instead of a `Decimal` object, and it may have rounding errors.\n",
    "\n",
    "7. One example of a quantity that can be expressed with absolute precision using the `Fraction` class is `Fraction(1, 3)` because it has a finite representation as a repeating decimal.\n",
    "\n",
    "8. A quantity that can be accurately expressed by the `Decimal` or `Fraction` classes but not by a floating-point value is `0.1` because it has an infinite binary fraction representation, resulting in rounding errors when represented as a `float` object.\n",
    "\n",
    "9. The internal state of `Fraction(1, 2)` and `Fraction(5, 10)` is the same because they represent the same value, and the `Fraction` class automatically simplifies the fraction to its lowest terms.\n",
    "\n",
    "10. The `Fraction` class is not a subclass of the `int` class, but it provides a similar interface to integers and can be used in place of integers in arithmetic expressions. The `Fraction` class also provides methods to convert to and from integers."
   ]
  },
  {
   "cell_type": "code",
   "execution_count": null,
   "id": "1af8990c",
   "metadata": {},
   "outputs": [],
   "source": []
  }
 ],
 "metadata": {
  "kernelspec": {
   "display_name": "Python 3 (ipykernel)",
   "language": "python",
   "name": "python3"
  },
  "language_info": {
   "codemirror_mode": {
    "name": "ipython",
    "version": 3
   },
   "file_extension": ".py",
   "mimetype": "text/x-python",
   "name": "python",
   "nbconvert_exporter": "python",
   "pygments_lexer": "ipython3",
   "version": "3.9.12"
  }
 },
 "nbformat": 4,
 "nbformat_minor": 5
}
