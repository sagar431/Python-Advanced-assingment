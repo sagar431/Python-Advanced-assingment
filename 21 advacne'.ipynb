{
 "cells": [
  {
   "cell_type": "markdown",
   "id": "6958ce9f",
   "metadata": {},
   "source": [
    "# Q1. What is a probability distribution, exactly? If the values are meant to be random, how can you\n",
    "predict them at all?\n",
    "\n",
    "Q2. Is there a distinction between true random numbers and pseudo-random numbers, if there is\n",
    "one? Why are the latter considered “good enough”?\n",
    "\n",
    "Q3. What are the two main factors that influence the behaviour of a &quot;normal&quot; probability distribution?\n",
    "\n",
    "Q4. Provide a real-life example of a normal distribution.\n",
    "\n",
    "Q5. In the short term, how can you expect a probability distribution to behave? What do you think will\n",
    "happen as the number of trials grows?\n",
    "\n",
    "Q6. What kind of object can be shuffled by using random.shuffle?\n",
    "\n",
    "Q7. Describe the math package&#39;s general categories of functions.\n",
    "\n",
    "Q8. What is the relationship between exponentiation and logarithms?\n",
    "\n",
    "Q9. What are the three logarithmic functions that Python supports?"
   ]
  },
  {
   "cell_type": "markdown",
   "id": "0cfcc624",
   "metadata": {},
   "source": [
    "# Answer"
   ]
  },
  {
   "cell_type": "markdown",
   "id": "1dd06698",
   "metadata": {},
   "source": [
    "Q1. A probability distribution is a function that describes the likelihood of all possible values in a random variable or a set of random variables. While the values may be random, their distribution follows a pattern that can be predicted and described using mathematical principles.\n",
    "\n",
    "Q2. True random numbers are generated from a natural, unpredictable source, while pseudo-random numbers are generated using a deterministic algorithm that produces numbers that are statistically random. While pseudo-random numbers are not truly random, they are considered \"good enough\" for most applications and are widely used in computer simulations and modeling.\n",
    "\n",
    "Q3. The two main factors that influence the behavior of a normal probability distribution are the mean and standard deviation. The mean determines the central tendency of the distribution, while the standard deviation determines the spread of the distribution.\n",
    "\n",
    "Q4. A real-life example of a normal distribution is the distribution of heights or weights of a large population.\n",
    "\n",
    "Q5. In the short term, the behavior of a probability distribution can be unpredictable and random. However, as the number of trials increases, the distribution will tend to converge towards its expected value and become more predictable.\n",
    "\n",
    "Q6. The random.shuffle function can shuffle any mutable sequence object in Python, including lists, tuples, and arrays.\n",
    "\n",
    "Q7. The math package in Python provides several categories of functions, including basic arithmetic operations, trigonometric functions, exponential and logarithmic functions, and special functions for statistics and probability.\n",
    "\n",
    "Q8. Exponentiation and logarithms are inverse operations. If x is the result of raising a to the power of b (i.e., x = a^b), then the logarithm of x with base a is b (i.e., log_a(x) = b).\n",
    "\n",
    "Q9. Python supports three logarithmic functions: math.log, which calculates the natural logarithm (base e) of a number; math.log10, which calculates the base-10 logarithm of a number; and math.log2, which calculates the base-2 logarithm of a number."
   ]
  },
  {
   "cell_type": "code",
   "execution_count": null,
   "id": "0c209287",
   "metadata": {},
   "outputs": [],
   "source": []
  }
 ],
 "metadata": {
  "kernelspec": {
   "display_name": "Python 3 (ipykernel)",
   "language": "python",
   "name": "python3"
  },
  "language_info": {
   "codemirror_mode": {
    "name": "ipython",
    "version": 3
   },
   "file_extension": ".py",
   "mimetype": "text/x-python",
   "name": "python",
   "nbconvert_exporter": "python",
   "pygments_lexer": "ipython3",
   "version": "3.9.12"
  }
 },
 "nbformat": 4,
 "nbformat_minor": 5
}
