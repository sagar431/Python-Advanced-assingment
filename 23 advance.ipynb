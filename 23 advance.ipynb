{
 "cells": [
  {
   "cell_type": "markdown",
   "id": "eeeacde3",
   "metadata": {},
   "source": [
    "Q1. If you have any, what are your choices for increasing the comparison between different figures on\n",
    "the same graph?\n",
    "\n",
    "Q2. Can you explain the benefit of compound interest over a higher rate of interest that does not\n",
    "compound after reading this chapter?\n",
    "\n",
    "Q3. What is a histogram, exactly? Name a numpy method for creating such a graph.\n",
    "\n",
    "Q4. If necessary, how do you change the aspect ratios between the X and Y axes?\n",
    "\n",
    "Q5. Compare and contrast the three types of array multiplication between two numpy arrays: dot\n",
    "product, outer product, and regular multiplication of two numpy arrays.\n",
    "\n",
    "Q6. Before you buy a home, which numpy function will you use to measure your monthly mortgage\n",
    "payment?\n",
    "\n",
    "Q7. Can string data be stored in numpy arrays? If so, list at least one restriction that applies to this\n",
    "data."
   ]
  },
  {
   "cell_type": "markdown",
   "id": "ae5081de",
   "metadata": {},
   "source": [
    "# Answer"
   ]
  },
  {
   "cell_type": "markdown",
   "id": "02ee9100",
   "metadata": {},
   "source": [
    "A1. One way to increase the comparison between different figures on the same graph is to normalize the data. Normalization involves scaling the data so that they all fall within a certain range, such as between 0 and 1. This can help to highlight differences between figures that might not be apparent when the data are on different scales. Another way to increase comparison is to use a dual-axis graph, where two sets of data are plotted on separate Y-axes that share the same X-axis.\n",
    "\n",
    "A2. The benefit of compound interest over a higher rate of interest that does not compound is that compound interest allows the investment to grow at a faster rate over time. This is because the interest earned on the investment is reinvested and earns additional interest, resulting in exponential growth. In contrast, a higher rate of interest that does not compound will only result in linear growth.\n",
    "\n",
    "A3. A histogram is a graphical representation of the distribution of a dataset. It consists of a series of bars, where each bar represents a range of values and the height of the bar represents the frequency of values within that range. One numpy method for creating a histogram is numpy.histogram().\n",
    "\n",
    "A4. To change the aspect ratio between the X and Y axes in a matplotlib plot, you can use the aspect parameter of the axes object. For example, to set the aspect ratio to 1:2, you would set the aspect parameter to 0.5.\n",
    "\n",
    "A5. The three types of array multiplication between two numpy arrays are:\n",
    "\n",
    "- Dot product: The dot product of two arrays is a scalar value that represents the sum of the products of the corresponding elements of the two arrays. It is calculated using the numpy.dot() function.\n",
    "- Outer product: The outer product of two arrays is a new array whose elements are the products of the corresponding elements of the two arrays. It is calculated using the numpy.outer() function.\n",
    "- Regular multiplication: Regular multiplication of two numpy arrays is performed element-wise, meaning that the corresponding elements of the two arrays are multiplied together. It is performed using the * operator.\n",
    "\n",
    "A6. To measure your monthly mortgage payment before buying a home, you could use the numpy function numpy.pmt(). This function takes as input the interest rate, number of payments, and loan amount, and returns the monthly mortgage payment.\n",
    "\n",
    "A7. Yes, string data can be stored in numpy arrays, but the strings must all be of the same length, since numpy arrays require a fixed-length data type. Additionally, numpy arrays are optimized for numerical data, so operations on string data may be slower and less efficient than operations on numerical data."
   ]
  },
  {
   "cell_type": "code",
   "execution_count": null,
   "id": "a24ae2d3",
   "metadata": {},
   "outputs": [],
   "source": []
  }
 ],
 "metadata": {
  "kernelspec": {
   "display_name": "Python 3 (ipykernel)",
   "language": "python",
   "name": "python3"
  },
  "language_info": {
   "codemirror_mode": {
    "name": "ipython",
    "version": 3
   },
   "file_extension": ".py",
   "mimetype": "text/x-python",
   "name": "python",
   "nbconvert_exporter": "python",
   "pygments_lexer": "ipython3",
   "version": "3.9.12"
  }
 },
 "nbformat": 4,
 "nbformat_minor": 5
}
