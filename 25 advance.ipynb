{
 "cells": [
  {
   "cell_type": "markdown",
   "id": "6cfdce9b",
   "metadata": {},
   "source": [
    "Q1. What is the distinction between a numpy array and a pandas data frame? Is there a way to\n",
    "convert between the two if there is?\n",
    "\n",
    "Q2. What can go wrong when an user enters in a stock-ticker symbol, and how do you handle it?\n",
    "\n",
    "Q3. Identify some of the plotting techniques that are used to produce a stock-market chart.\n",
    "\n",
    "Q4. Why is it essential to print a legend on a stock market chart?\n",
    "\n",
    "Q5. What is the best way to limit the length of a pandas data frame to less than a year?\n",
    "\n",
    "Q6. What is the definition of a 180-day moving average?"
   ]
  },
  {
   "cell_type": "markdown",
   "id": "5863da5a",
   "metadata": {},
   "source": [
    "# answer"
   ]
  },
  {
   "cell_type": "markdown",
   "id": "f084a889",
   "metadata": {},
   "source": [
    "A1. The main distinction between a numpy array and a pandas dataframe is that a numpy array is a multidimensional array of homogeneous data types, whereas a pandas dataframe is a two-dimensional table of heterogeneous data types with column labels and row labels. One way to convert a numpy array to a pandas dataframe is to use the pandas.DataFrame() function, and one way to convert a pandas dataframe to a numpy array is to use the dataframe.to_numpy() method.\n",
    "\n",
    "A2. When a user enters a stock-ticker symbol, some of the things that can go wrong include misspelling the symbol, entering an invalid symbol, or entering a symbol that is not recognized by the API being used. To handle this, you can implement error-checking and validation to ensure that the symbol entered is valid, and you can provide informative error messages to the user if an error occurs.\n",
    "\n",
    "A3. Some of the plotting techniques that are used to produce a stock-market chart include line charts, candlestick charts, and bar charts. Line charts are commonly used to show the trend of a stock's price over time, candlestick charts provide more detailed information about the opening, closing, high, and low prices of a stock, and bar charts are often used to show trading volume.\n",
    "\n",
    "A4. It is essential to print a legend on a stock market chart because it helps to identify what each line or bar represents. A legend provides a clear and concise explanation of the data being displayed and allows the reader to quickly understand the information being presented.\n",
    "\n",
    "A5. One way to limit the length of a pandas dataframe to less than a year is to filter the dataframe based on a date range. For example, you can use the dataframe.loc[] method to select rows that fall within a specific date range, such as the past year.\n",
    "\n",
    "A6. A 180-day moving average is a way to smooth out fluctuations in a stock's price by taking the average of the stock's price over the past 180 days. This is often used to identify long-term trends in a stock's price and to filter out short-term noise. The moving average is recalculated every day to include the latest data point and exclude the oldest data point.\n",
    "\n",
    "A7. Yes, the final example in the chapter used \"indirect\" importing by importing a module using a string variable that contained the name of the module. This is done by using the __import__() function and passing the module name as a string variable. For example, to import a module named \"mymodule\", you can use the following code:\n",
    "\n",
    "```python\n",
    "module_name = \"mymodule\"\n",
    "my_module = __import__(module_name)\n",
    "```"
   ]
  },
  {
   "cell_type": "code",
   "execution_count": null,
   "id": "fd3ff00d",
   "metadata": {},
   "outputs": [],
   "source": []
  }
 ],
 "metadata": {
  "kernelspec": {
   "display_name": "Python 3 (ipykernel)",
   "language": "python",
   "name": "python3"
  },
  "language_info": {
   "codemirror_mode": {
    "name": "ipython",
    "version": 3
   },
   "file_extension": ".py",
   "mimetype": "text/x-python",
   "name": "python",
   "nbconvert_exporter": "python",
   "pygments_lexer": "ipython3",
   "version": "3.9.12"
  }
 },
 "nbformat": 4,
 "nbformat_minor": 5
}
