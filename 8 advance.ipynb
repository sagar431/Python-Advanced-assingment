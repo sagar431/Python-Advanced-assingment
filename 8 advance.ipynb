{
 "cells": [
  {
   "cell_type": "markdown",
   "id": "4d5f2762",
   "metadata": {},
   "source": [
    "Q1. What are the two latest user-defined exception constraints in Python 3.X?\n",
    "\n",
    "Q2. How are class-based exceptions that have been raised matched to handlers?\n",
    "\n",
    "Q3. Describe two methods for attaching context information to exception artefacts.\n",
    "\n",
    "Q4. Describe two methods for specifying the text of an exception object&#39;s error message.\n",
    "\n",
    "Q5. Why do you no longer use string-based exceptions?"
   ]
  },
  {
   "cell_type": "markdown",
   "id": "a8ee80e0",
   "metadata": {},
   "source": [
    "# Answer"
   ]
  },
  {
   "cell_type": "markdown",
   "id": "6b17ed59",
   "metadata": {},
   "source": [
    "Q1. The two latest user-defined exception constraints in Python 3.x are:\n",
    "- `BaseException` can no longer be used as a base class for user-defined exceptions.\n",
    "- Exception chaining can now be done explicitly with the `raise X from Y` syntax.\n",
    "\n",
    "Q2. When a class-based exception is raised, Python looks for a matching exception handler. It searches the call stack, starting from the current function and moving up to higher-level functions, until it finds a matching `except` block. If no matching handler is found, the program terminates and prints a traceback.\n",
    "\n",
    "Q3. Two methods for attaching context information to exception artifacts are:\n",
    "- Adding an argument to the exception constructor that captures context information, such as a filename or line number.\n",
    "- Using the `raise X from Y` syntax to attach an exception chain to the original exception, where `Y` is the original exception that caused `X`.\n",
    "\n",
    "Q4. Two methods for specifying the text of an exception object's error message are:\n",
    "- Adding an argument to the exception constructor that specifies the error message, such as `raise ValueError('Invalid argument')`.\n",
    "- Defining a `__str__` method in the exception class that returns the error message, such as `def __str__(self): return 'Invalid argument'`.\n",
    "\n",
    "Q5. String-based exceptions have been deprecated in Python because they are less flexible and less powerful than class-based exceptions. String-based exceptions are also less consistent with Python's object-oriented philosophy, as they do not allow for the creation of custom exception classes with their own behavior and attributes. Class-based exceptions, on the other hand, provide a more structured and consistent approach to handling errors and allow for greater flexibility and customization."
   ]
  },
  {
   "cell_type": "code",
   "execution_count": null,
   "id": "ca78a4ce",
   "metadata": {},
   "outputs": [],
   "source": []
  }
 ],
 "metadata": {
  "kernelspec": {
   "display_name": "Python 3 (ipykernel)",
   "language": "python",
   "name": "python3"
  },
  "language_info": {
   "codemirror_mode": {
    "name": "ipython",
    "version": 3
   },
   "file_extension": ".py",
   "mimetype": "text/x-python",
   "name": "python",
   "nbconvert_exporter": "python",
   "pygments_lexer": "ipython3",
   "version": "3.9.12"
  }
 },
 "nbformat": 4,
 "nbformat_minor": 5
}
