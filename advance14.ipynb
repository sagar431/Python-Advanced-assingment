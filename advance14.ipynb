{
 "cells": [
  {
   "cell_type": "markdown",
   "id": "fd26250c",
   "metadata": {},
   "source": [
    "Q1. Is an assignment operator like += only for show? Is it possible that it would lead to faster results\n",
    "at the runtime?\n",
    "\n",
    "Q2. What is the smallest number of statements you&#39;d have to write in most programming languages to\n",
    "replace the Python expression a, b = a + b, a?\n",
    "\n",
    "Q3. In Python, what is the most effective way to set a list of 100 integers to 0?\n",
    "\n",
    "Q4. What is the most effective way to initialise a list of 99 integers that repeats the sequence 1, 2, 3?\n",
    "S If necessary, show step-by-step instructions on how to accomplish this.\n",
    "\n",
    "Q5. If you&#39;re using IDLE to run a Python application, explain how to print a multidimensional list as\n",
    "efficiently?\n",
    "\n",
    "Q6. Is it possible to use list comprehension with a string? If so, how can you go about doing it?\n",
    "\n",
    "Q7. From the command line, how do you get support with a user-written Python programme? Is this\n",
    "possible from inside IDLE?\n",
    "\n",
    "Q8. Functions are said to be “first-class objects” in Python but not in most other languages, such as\n",
    "C++ or Java. What can you do in Python with a function (callable object) that you can&#39;t do in C or\n",
    "C++?\n",
    "\n",
    "Q9. How do you distinguish between a wrapper, a wrapped feature, and a decorator?\n",
    "\n",
    "Q10. If a function is a generator function, what does it return?\n",
    "\n",
    "Q11. What is the one improvement that must be made to a function in order for it to become a\n",
    "generator function in the Python language?\n",
    "\n",
    "Q12. Identify at least one benefit of generators."
   ]
  },
  {
   "cell_type": "markdown",
   "id": "5c77cee3",
   "metadata": {},
   "source": [
    "# answerr"
   ]
  },
  {
   "cell_type": "markdown",
   "id": "ce52f7d4",
   "metadata": {},
   "source": [
    "Q1. The assignment operator like += is not just for show. It can lead to faster results at runtime, especially when working with large data sets, as it modifies the existing object in place instead of creating a new one.\n",
    "\n",
    "Q2. In most programming languages, it would take at least three statements to replace the Python expression a, b = a + b, a. The three statements would be: temp = a + b; a = temp; b = a - b.\n",
    "\n",
    "Q3. In Python, the most effective way to set a list of 100 integers to 0 is to use a list comprehension: my_list = [0] * 100.\n",
    "\n",
    "Q4. The most effective way to initialise a list of 99 integers that repeats the sequence 1, 2, 3 is to use a list comprehension: my_list = [x for x in range(1,4)] * 33.\n",
    "\n",
    "Q5. To print a multidimensional list efficiently in IDLE, you can use a nested for loop to iterate through each element and print it on a new line. For example:\n",
    "```\n",
    "my_list = [[1, 2], [3, 4]]\n",
    "for sublist in my_list:\n",
    "    for item in sublist:\n",
    "        print(item)\n",
    "```\n",
    "\n",
    "Q6. Yes, it is possible to use list comprehension with a string in Python. For example, to create a list of each character in a string, you can use: my_list = [char for char in my_string].\n",
    "\n",
    "Q7. To get support with a user-written Python program from the command line, you can use the Python documentation or online forums. It is also possible to get support from inside IDLE by using the help() function or the IDLE debugger.\n",
    "\n",
    "Q8. In Python, functions are first-class objects, which means they can be passed as arguments to other functions, returned as values from functions, and stored in variables. This allows for powerful functional programming techniques and makes it easier to write reusable and modular code.\n",
    "\n",
    "Q9. A wrapper is a function or class that provides a simple and consistent interface to a complex or non-standard feature. A wrapped feature is the complex or non-standard feature that is being wrapped. A decorator is a special kind of wrapper that modifies the behavior of a function or class without changing its source code.\n",
    "\n",
    "Q10. If a function is a generator function in Python, it returns a generator object, which is an iterator that can be used to iterate over a potentially infinite sequence of values. Generator functions use the yield statement to return values one at a time, and the state of the function is saved between calls so that it can resume where it left off.\n",
    "\n",
    "Q11. The one improvement that must be made to a function in order for it to become a generator function in Python is to replace the return statement with a yield statement. The yield statement allows the function to return a value without actually exiting, and the state of the function is saved so that it can be resumed later.\n",
    "\n",
    "Q12. One benefit of generators is that they can be used to generate potentially infinite sequences of values without using excessive memory or causing the program to crash. They also allow for lazy evaluation, which means that values are only generated as needed, reducing processing time and memory usage. Generators are also highly modular and can be easily combined and reused in different parts of a program."
   ]
  },
  {
   "cell_type": "code",
   "execution_count": null,
   "id": "1ba3ffb3",
   "metadata": {},
   "outputs": [],
   "source": []
  }
 ],
 "metadata": {
  "kernelspec": {
   "display_name": "Python 3 (ipykernel)",
   "language": "python",
   "name": "python3"
  },
  "language_info": {
   "codemirror_mode": {
    "name": "ipython",
    "version": 3
   },
   "file_extension": ".py",
   "mimetype": "text/x-python",
   "name": "python",
   "nbconvert_exporter": "python",
   "pygments_lexer": "ipython3",
   "version": "3.9.12"
  }
 },
 "nbformat": 4,
 "nbformat_minor": 5
}
