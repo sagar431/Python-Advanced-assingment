{
 "cells": [
  {
   "cell_type": "markdown",
   "id": "9114715f",
   "metadata": {},
   "source": [
    "1. What is the concept of an abstract superclass?\n",
    "\n",
    "2. What happens when a class statement&#39;s top level contains a basic assignment statement?\n",
    "\n",
    "3. Why does a class need to manually call a superclass&#39;s __init__ method?\n",
    "\n",
    "4. How can you augment, instead of completely replacing, an inherited method?\n",
    "\n",
    "5. How is the local scope of a class different from that of a function?"
   ]
  },
  {
   "cell_type": "markdown",
   "id": "6837c972",
   "metadata": {},
   "source": [
    "# Answer"
   ]
  },
  {
   "cell_type": "markdown",
   "id": "f859f648",
   "metadata": {},
   "source": [
    "1. An abstract superclass is a class that is intended to be inherited by other classes, but not instantiated on its own. It defines a set of methods or attributes that are expected to be implemented by its subclasses. It serves as a blueprint for the subclasses to follow and helps enforce a certain structure and behavior.\n",
    "\n",
    "2. When a class statement's top level contains a basic assignment statement, a new class variable is created with the given name and assigned the given value. This variable is then shared by all instances of the class and can be accessed using the class name or instance name. However, this does not affect the behavior or structure of the class itself.\n",
    "\n",
    "3. When a class inherits from a superclass, it does not automatically call the superclass's `__init__` method, which is responsible for initializing the inherited attributes and methods. Therefore, the subclass needs to manually call the superclass's `__init__` method in its own `__init__` method using the `super()` function. This ensures that the superclass's initialization code is executed before the subclass's initialization code.\n",
    "\n",
    "4. To augment an inherited method, the subclass can override the method and call the superclass's version of the method using the `super()` function. This allows the subclass to add additional functionality or modify the behavior of the inherited method without completely replacing it.\n",
    "\n",
    "5. The local scope of a class is different from that of a function in that it includes all the attributes and methods defined within the class definition, including class variables and methods. The local scope of a function, on the other hand, only includes the variables and parameters defined within the function body. Additionally, the local scope of a class can be accessed by all the methods and attributes defined within the class, while the local scope of a function is only accessible within that function."
   ]
  },
  {
   "cell_type": "code",
   "execution_count": null,
   "id": "91384b4e",
   "metadata": {},
   "outputs": [],
   "source": []
  }
 ],
 "metadata": {
  "kernelspec": {
   "display_name": "Python 3 (ipykernel)",
   "language": "python",
   "name": "python3"
  },
  "language_info": {
   "codemirror_mode": {
    "name": "ipython",
    "version": 3
   },
   "file_extension": ".py",
   "mimetype": "text/x-python",
   "name": "python",
   "nbconvert_exporter": "python",
   "pygments_lexer": "ipython3",
   "version": "3.9.12"
  }
 },
 "nbformat": 4,
 "nbformat_minor": 5
}
